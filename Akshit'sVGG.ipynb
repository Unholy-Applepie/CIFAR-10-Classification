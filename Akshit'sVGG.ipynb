{
  "nbformat": 4,
  "nbformat_minor": 0,
  "metadata": {
    "colab": {
      "provenance": [],
      "authorship_tag": "ABX9TyOLl7TZTvR1VFKXKGFfZ2rQ",
      "include_colab_link": true
    },
    "kernelspec": {
      "name": "python3",
      "display_name": "Python 3"
    },
    "accelerator": "GPU"
  },
  "cells": [
    {
      "cell_type": "markdown",
      "metadata": {
        "id": "view-in-github",
        "colab_type": "text"
      },
      "source": [
        "<a href=\"https://colab.research.google.com/github/Unholy-Applepie/CIFAR-10-Classification/blob/main/Akshit'sVGG.ipynb\" target=\"_parent\"><img src=\"https://colab.research.google.com/assets/colab-badge.svg\" alt=\"Open In Colab\"/></a>"
      ]
    },
    {
      "cell_type": "markdown",
      "metadata": {
        "id": "Hc5ICLprgO-l"
      },
      "source": [
        "## Image Classification on CIFAR10 data using VGG Network Architecture"
      ]
    },
    {
      "cell_type": "markdown",
      "metadata": {
        "id": "Lx-W3Nu5hlu7"
      },
      "source": [
        "My name is Akshit Kalita. I am a final year Information Technology student in Symbiosis Institute of Technology. In this notebook, I will demonstrate how I used Tensoflow 2.0 and VGG  Convolutional Network Architecture to build a Image Classification Model on the CIFAR10 dataset."
      ]
    },
    {
      "cell_type": "markdown",
      "metadata": {
        "id": "CrUyAkkBiTui"
      },
      "source": [
        "Let me start by importing Tensor Flow and required libraries."
      ]
    },
    {
      "cell_type": "code",
      "metadata": {
        "id": "15q13WraiZz9",
        "colab": {
          "base_uri": "https://localhost:8080/",
          "height": 666
        },
        "outputId": "222d5760-e8e6-43d1-d018-33f62e02e72d"
      },
      "source": [
        "!pip install tensorflow-gpu==2.2.0"
      ],
      "execution_count": null,
      "outputs": [
        {
          "output_type": "stream",
          "text": [
            "Requirement already satisfied: tensorflow-gpu==2.2.0 in /usr/local/lib/python3.6/dist-packages (2.2.0)\n",
            "Requirement already satisfied: termcolor>=1.1.0 in /usr/local/lib/python3.6/dist-packages (from tensorflow-gpu==2.2.0) (1.1.0)\n",
            "Requirement already satisfied: astunparse==1.6.3 in /usr/local/lib/python3.6/dist-packages (from tensorflow-gpu==2.2.0) (1.6.3)\n",
            "Requirement already satisfied: six>=1.12.0 in /usr/local/lib/python3.6/dist-packages (from tensorflow-gpu==2.2.0) (1.12.0)\n",
            "Requirement already satisfied: wheel>=0.26; python_version >= \"3\" in /usr/local/lib/python3.6/dist-packages (from tensorflow-gpu==2.2.0) (0.34.2)\n",
            "Requirement already satisfied: google-pasta>=0.1.8 in /usr/local/lib/python3.6/dist-packages (from tensorflow-gpu==2.2.0) (0.2.0)\n",
            "Requirement already satisfied: h5py<2.11.0,>=2.10.0 in /usr/local/lib/python3.6/dist-packages (from tensorflow-gpu==2.2.0) (2.10.0)\n",
            "Requirement already satisfied: grpcio>=1.8.6 in /usr/local/lib/python3.6/dist-packages (from tensorflow-gpu==2.2.0) (1.30.0)\n",
            "Requirement already satisfied: numpy<2.0,>=1.16.0 in /usr/local/lib/python3.6/dist-packages (from tensorflow-gpu==2.2.0) (1.18.5)\n",
            "Requirement already satisfied: keras-preprocessing>=1.1.0 in /usr/local/lib/python3.6/dist-packages (from tensorflow-gpu==2.2.0) (1.1.2)\n",
            "Requirement already satisfied: gast==0.3.3 in /usr/local/lib/python3.6/dist-packages (from tensorflow-gpu==2.2.0) (0.3.3)\n",
            "Requirement already satisfied: opt-einsum>=2.3.2 in /usr/local/lib/python3.6/dist-packages (from tensorflow-gpu==2.2.0) (3.2.1)\n",
            "Requirement already satisfied: tensorboard<2.3.0,>=2.2.0 in /usr/local/lib/python3.6/dist-packages (from tensorflow-gpu==2.2.0) (2.2.2)\n",
            "Requirement already satisfied: wrapt>=1.11.1 in /usr/local/lib/python3.6/dist-packages (from tensorflow-gpu==2.2.0) (1.12.1)\n",
            "Requirement already satisfied: protobuf>=3.8.0 in /usr/local/lib/python3.6/dist-packages (from tensorflow-gpu==2.2.0) (3.10.0)\n",
            "Requirement already satisfied: absl-py>=0.7.0 in /usr/local/lib/python3.6/dist-packages (from tensorflow-gpu==2.2.0) (0.9.0)\n",
            "Requirement already satisfied: scipy==1.4.1; python_version >= \"3\" in /usr/local/lib/python3.6/dist-packages (from tensorflow-gpu==2.2.0) (1.4.1)\n",
            "Requirement already satisfied: tensorflow-estimator<2.3.0,>=2.2.0 in /usr/local/lib/python3.6/dist-packages (from tensorflow-gpu==2.2.0) (2.2.0)\n",
            "Requirement already satisfied: markdown>=2.6.8 in /usr/local/lib/python3.6/dist-packages (from tensorboard<2.3.0,>=2.2.0->tensorflow-gpu==2.2.0) (3.2.2)\n",
            "Requirement already satisfied: google-auth-oauthlib<0.5,>=0.4.1 in /usr/local/lib/python3.6/dist-packages (from tensorboard<2.3.0,>=2.2.0->tensorflow-gpu==2.2.0) (0.4.1)\n",
            "Requirement already satisfied: setuptools>=41.0.0 in /usr/local/lib/python3.6/dist-packages (from tensorboard<2.3.0,>=2.2.0->tensorflow-gpu==2.2.0) (49.1.0)\n",
            "Requirement already satisfied: requests<3,>=2.21.0 in /usr/local/lib/python3.6/dist-packages (from tensorboard<2.3.0,>=2.2.0->tensorflow-gpu==2.2.0) (2.23.0)\n",
            "Requirement already satisfied: google-auth<2,>=1.6.3 in /usr/local/lib/python3.6/dist-packages (from tensorboard<2.3.0,>=2.2.0->tensorflow-gpu==2.2.0) (1.17.2)\n",
            "Requirement already satisfied: tensorboard-plugin-wit>=1.6.0 in /usr/local/lib/python3.6/dist-packages (from tensorboard<2.3.0,>=2.2.0->tensorflow-gpu==2.2.0) (1.7.0)\n",
            "Requirement already satisfied: werkzeug>=0.11.15 in /usr/local/lib/python3.6/dist-packages (from tensorboard<2.3.0,>=2.2.0->tensorflow-gpu==2.2.0) (1.0.1)\n",
            "Requirement already satisfied: importlib-metadata; python_version < \"3.8\" in /usr/local/lib/python3.6/dist-packages (from markdown>=2.6.8->tensorboard<2.3.0,>=2.2.0->tensorflow-gpu==2.2.0) (1.7.0)\n",
            "Requirement already satisfied: requests-oauthlib>=0.7.0 in /usr/local/lib/python3.6/dist-packages (from google-auth-oauthlib<0.5,>=0.4.1->tensorboard<2.3.0,>=2.2.0->tensorflow-gpu==2.2.0) (1.3.0)\n",
            "Requirement already satisfied: urllib3!=1.25.0,!=1.25.1,<1.26,>=1.21.1 in /usr/local/lib/python3.6/dist-packages (from requests<3,>=2.21.0->tensorboard<2.3.0,>=2.2.0->tensorflow-gpu==2.2.0) (1.24.3)\n",
            "Requirement already satisfied: certifi>=2017.4.17 in /usr/local/lib/python3.6/dist-packages (from requests<3,>=2.21.0->tensorboard<2.3.0,>=2.2.0->tensorflow-gpu==2.2.0) (2020.6.20)\n",
            "Requirement already satisfied: idna<3,>=2.5 in /usr/local/lib/python3.6/dist-packages (from requests<3,>=2.21.0->tensorboard<2.3.0,>=2.2.0->tensorflow-gpu==2.2.0) (2.10)\n",
            "Requirement already satisfied: chardet<4,>=3.0.2 in /usr/local/lib/python3.6/dist-packages (from requests<3,>=2.21.0->tensorboard<2.3.0,>=2.2.0->tensorflow-gpu==2.2.0) (3.0.4)\n",
            "Requirement already satisfied: cachetools<5.0,>=2.0.0 in /usr/local/lib/python3.6/dist-packages (from google-auth<2,>=1.6.3->tensorboard<2.3.0,>=2.2.0->tensorflow-gpu==2.2.0) (4.1.1)\n",
            "Requirement already satisfied: pyasn1-modules>=0.2.1 in /usr/local/lib/python3.6/dist-packages (from google-auth<2,>=1.6.3->tensorboard<2.3.0,>=2.2.0->tensorflow-gpu==2.2.0) (0.2.8)\n",
            "Requirement already satisfied: rsa<5,>=3.1.4; python_version >= \"3\" in /usr/local/lib/python3.6/dist-packages (from google-auth<2,>=1.6.3->tensorboard<2.3.0,>=2.2.0->tensorflow-gpu==2.2.0) (4.6)\n",
            "Requirement already satisfied: zipp>=0.5 in /usr/local/lib/python3.6/dist-packages (from importlib-metadata; python_version < \"3.8\"->markdown>=2.6.8->tensorboard<2.3.0,>=2.2.0->tensorflow-gpu==2.2.0) (3.1.0)\n",
            "Requirement already satisfied: oauthlib>=3.0.0 in /usr/local/lib/python3.6/dist-packages (from requests-oauthlib>=0.7.0->google-auth-oauthlib<0.5,>=0.4.1->tensorboard<2.3.0,>=2.2.0->tensorflow-gpu==2.2.0) (3.1.0)\n",
            "Requirement already satisfied: pyasn1<0.5.0,>=0.4.6 in /usr/local/lib/python3.6/dist-packages (from pyasn1-modules>=0.2.1->google-auth<2,>=1.6.3->tensorboard<2.3.0,>=2.2.0->tensorflow-gpu==2.2.0) (0.4.8)\n"
          ],
          "name": "stdout"
        }
      ]
    },
    {
      "cell_type": "code",
      "metadata": {
        "id": "OVSrtKOqkGkd"
      },
      "source": [
        "import tensorflow as tf"
      ],
      "execution_count": null,
      "outputs": []
    },
    {
      "cell_type": "code",
      "metadata": {
        "id": "cCShpwRxlTih"
      },
      "source": [
        "from tensorflow.keras import Sequential\n",
        "from tensorflow.keras.layers import Flatten, Dense, Conv2D, MaxPooling2D, Dropout, BatchNormalization\n",
        "from tensorflow.keras.utils import to_categorical\n",
        "from matplotlib import pyplot\n",
        "from tensorflow.python.keras.optimizers import SGD\n",
        "from tensorflow.keras.preprocessing.image import ImageDataGenerator\n",
        "from tensorflow.keras.datasets import cifar10"
      ],
      "execution_count": null,
      "outputs": []
    },
    {
      "cell_type": "code",
      "metadata": {
        "id": "vQZpPqifFc9Q"
      },
      "source": [
        "device_name = tf.test.gpu_device_name()"
      ],
      "execution_count": null,
      "outputs": []
    },
    {
      "cell_type": "markdown",
      "metadata": {
        "id": "gMRpvQTTM6PA"
      },
      "source": [
        "## Data Preprocessing"
      ]
    },
    {
      "cell_type": "markdown",
      "metadata": {
        "id": "Lch_64VgoR7T"
      },
      "source": [
        "I will now write code to load the dataset."
      ]
    },
    {
      "cell_type": "code",
      "metadata": {
        "id": "DUzfsC8voXjy"
      },
      "source": [
        "(trainX, trainY), (testX, testY) = cifar10.load_data()\n"
      ],
      "execution_count": null,
      "outputs": []
    },
    {
      "cell_type": "code",
      "metadata": {
        "id": "laiK1wOdVxum",
        "colab": {
          "base_uri": "https://localhost:8080/",
          "height": 34
        },
        "outputId": "f03b8316-91b2-4322-954f-3454cde88af5"
      },
      "source": [
        "trainX.shape"
      ],
      "execution_count": null,
      "outputs": [
        {
          "output_type": "execute_result",
          "data": {
            "text/plain": [
              "(50000, 32, 32, 3)"
            ]
          },
          "metadata": {
            "tags": []
          },
          "execution_count": 6
        }
      ]
    },
    {
      "cell_type": "code",
      "metadata": {
        "id": "NVVDoV_iV1KG",
        "colab": {
          "base_uri": "https://localhost:8080/",
          "height": 34
        },
        "outputId": "025b6639-152b-433b-8d56-d963499802fd"
      },
      "source": [
        "testX.shape"
      ],
      "execution_count": null,
      "outputs": [
        {
          "output_type": "execute_result",
          "data": {
            "text/plain": [
              "(10000, 32, 32, 3)"
            ]
          },
          "metadata": {
            "tags": []
          },
          "execution_count": 7
        }
      ]
    },
    {
      "cell_type": "markdown",
      "metadata": {
        "id": "3uWSgz_VV3t4"
      },
      "source": [
        "After observation, we notice that the cifar10 dataset contains 60,000 images with 50,000 examples in the train dataset and 10,00 examples in the test dataset, each being a 32X32 colour image with 3 channels.Now I will one hot encode it."
      ]
    },
    {
      "cell_type": "code",
      "metadata": {
        "id": "-lBmsdScVnyx"
      },
      "source": [
        "trainY = to_categorical(trainY)\n",
        "testY = to_categorical(testY)"
      ],
      "execution_count": null,
      "outputs": []
    },
    {
      "cell_type": "markdown",
      "metadata": {
        "id": "WVSn7eeMqHOt"
      },
      "source": [
        "I will now normalise the dataset and rescale the pixels to be in the range 0 to 1."
      ]
    },
    {
      "cell_type": "code",
      "metadata": {
        "id": "MdWI1XQnqfdB"
      },
      "source": [
        "  trainX = trainX/255.0\n",
        "  testX = testX/255.0"
      ],
      "execution_count": null,
      "outputs": []
    },
    {
      "cell_type": "markdown",
      "metadata": {
        "id": "mg2eGcu7z2re"
      },
      "source": [
        "## Developing the model"
      ]
    },
    {
      "cell_type": "markdown",
      "metadata": {
        "id": "dMdP5sbp0GqM"
      },
      "source": [
        "The VGG Architecture comprises of a Convolutional Neural Network having a very small receptive field consisting of 3X3 filters which is the smallest possible size that still captures Up, Left,Right and Down blocks. It uses ReLU as an Activation function on every layer."
      ]
    },
    {
      "cell_type": "code",
      "metadata": {
        "id": "cweWspOE-DbC"
      },
      "source": [
        "model = Sequential()\n",
        "model.add(Conv2D(32, (3, 3), activation='relu', kernel_initializer='he_uniform', padding='same', input_shape=(32, 32, 3)))\n",
        "model.add(BatchNormalization())\n",
        "model.add(Conv2D(32, (3, 3), activation='relu', kernel_initializer='he_uniform', padding='same'))\n",
        "model.add(BatchNormalization())\n",
        "model.add(MaxPooling2D((2, 2)))\n",
        "model.add(Dropout(0.2))\n",
        "model.add(Conv2D(64, (3, 3), activation='relu', kernel_initializer='he_uniform', padding='same'))\n",
        "model.add(BatchNormalization())\n",
        "model.add(Conv2D(64, (3, 3), activation='relu', kernel_initializer='he_uniform', padding='same'))\n",
        "model.add(BatchNormalization())\n",
        "model.add(MaxPooling2D((2, 2)))\n",
        "model.add(Dropout(0.3))\n",
        "model.add(Conv2D(128, (3, 3), activation='relu', kernel_initializer='he_uniform', padding='same'))\n",
        "model.add(BatchNormalization())\n",
        "model.add(Conv2D(128, (3, 3), activation='relu', kernel_initializer='he_uniform', padding='same'))\n",
        "model.add(BatchNormalization())\n",
        "model.add(MaxPooling2D((2, 2)))\n",
        "model.add(Dropout(0.4))\n",
        "model.add(Flatten())\n",
        "model.add(Dense(128, activation='relu', kernel_initializer='he_uniform'))\n",
        "model.add(BatchNormalization())\n",
        "model.add(Dropout(0.5))\n",
        "model.add(Dense(10, activation='softmax'))\n",
        "model.compile(optimizer='SGD', loss='categorical_crossentropy', metrics=['accuracy'])"
      ],
      "execution_count": null,
      "outputs": []
    },
    {
      "cell_type": "markdown",
      "metadata": {
        "id": "Q7LThZVYBTsP"
      },
      "source": [
        "I have used 3 sets of 2 'Conv2D' layers and a 'MaxPooling2D' layer with increasing number of filters in every layer. 'He weight' initialization has been used since it is generally  considered good practice. I have also used increasing Dropout layers after every MaxPooling layer as a method of regularization to prevent overfitting. It forces layers deep in the network to regularize rather than the ones closer to the input.\n",
        "\n",
        "Finally Batch Normalization is basically preprocessing at every single layer. It allows each layer to learn more independently of other layers. This allows the model to generalise better.\n",
        "\n",
        "I have used Stochastic Gradient Descent as the optimiser with a learning rate of 0.001 and a momentum of 0.9. This helped me hit higher accuracy values compared to Adam, RMSProp and Adagrad. Categorical Cross Entropy has been used since we are dealing with a multiclass classification problem."
      ]
    },
    {
      "cell_type": "markdown",
      "metadata": {
        "id": "kxlnRj8ROPBL"
      },
      "source": [
        "## Fitting the Model"
      ]
    },
    {
      "cell_type": "markdown",
      "metadata": {
        "id": "3sNZynZyOhEk"
      },
      "source": [
        "This step involves fitting the model and stating the number of epochs and batch size. The model can then be evaluated by calculating and displaying the accuracy. I have used the test set as the validation set since the images in the dataset are of similar shape and size. However K-fold cross validation can also be used. I have also used Image Generator as a form of Data Augmentation to increase the training set and help the model generalise better to improve accuracy."
      ]
    },
    {
      "cell_type": "code",
      "metadata": {
        "id": "qLMBG7r1O5xQ",
        "colab": {
          "base_uri": "https://localhost:8080/",
          "height": 1000
        },
        "outputId": "cbe09f4c-ff9a-4419-e26d-f786c207a76b"
      },
      "source": [
        "datagen = ImageDataGenerator(width_shift_range=0.1, height_shift_range=0.1, horizontal_flip=True)\n",
        "it_train = datagen.flow(trainX, trainY, batch_size=30)\n",
        "steps = int(trainX.shape[0] / 30)\n",
        "history = model.fit(it_train, steps_per_epoch=steps, epochs=100,validation_data=(testX, testY), verbose=1)\n",
        "acc = model.evaluate(testX, testY, verbose=1)"
      ],
      "execution_count": null,
      "outputs": [
        {
          "output_type": "stream",
          "text": [
            "Epoch 1/100\n",
            "1666/1666 [==============================] - 27s 16ms/step - loss: 1.9146 - accuracy: 0.3345 - val_loss: 1.4331 - val_accuracy: 0.4713\n",
            "Epoch 2/100\n",
            "1666/1666 [==============================] - 27s 16ms/step - loss: 1.5186 - accuracy: 0.4408 - val_loss: 1.3281 - val_accuracy: 0.5110\n",
            "Epoch 3/100\n",
            "1666/1666 [==============================] - 27s 16ms/step - loss: 1.3863 - accuracy: 0.4979 - val_loss: 1.5857 - val_accuracy: 0.4537\n",
            "Epoch 4/100\n",
            "1666/1666 [==============================] - 27s 16ms/step - loss: 1.3002 - accuracy: 0.5339 - val_loss: 1.3421 - val_accuracy: 0.5224\n",
            "Epoch 5/100\n",
            "1666/1666 [==============================] - 27s 16ms/step - loss: 1.2316 - accuracy: 0.5570 - val_loss: 1.2322 - val_accuracy: 0.5535\n",
            "Epoch 6/100\n",
            "1666/1666 [==============================] - 27s 16ms/step - loss: 1.1831 - accuracy: 0.5792 - val_loss: 1.1987 - val_accuracy: 0.5668\n",
            "Epoch 7/100\n",
            "1666/1666 [==============================] - 27s 16ms/step - loss: 1.1287 - accuracy: 0.5998 - val_loss: 1.0989 - val_accuracy: 0.6064\n",
            "Epoch 8/100\n",
            "1666/1666 [==============================] - 27s 16ms/step - loss: 1.0955 - accuracy: 0.6106 - val_loss: 1.0228 - val_accuracy: 0.6304\n",
            "Epoch 9/100\n",
            "1666/1666 [==============================] - 27s 16ms/step - loss: 1.0574 - accuracy: 0.6255 - val_loss: 0.9436 - val_accuracy: 0.6657\n",
            "Epoch 10/100\n",
            "1666/1666 [==============================] - 27s 16ms/step - loss: 1.0261 - accuracy: 0.6362 - val_loss: 0.8971 - val_accuracy: 0.6786\n",
            "Epoch 11/100\n",
            "1666/1666 [==============================] - 27s 16ms/step - loss: 1.0010 - accuracy: 0.6465 - val_loss: 0.9481 - val_accuracy: 0.6633\n",
            "Epoch 12/100\n",
            "1666/1666 [==============================] - 27s 16ms/step - loss: 0.9766 - accuracy: 0.6569 - val_loss: 0.8658 - val_accuracy: 0.6904\n",
            "Epoch 13/100\n",
            "1666/1666 [==============================] - 27s 16ms/step - loss: 0.9509 - accuracy: 0.6657 - val_loss: 0.8357 - val_accuracy: 0.7012\n",
            "Epoch 14/100\n",
            "1666/1666 [==============================] - 27s 16ms/step - loss: 0.9272 - accuracy: 0.6742 - val_loss: 0.8603 - val_accuracy: 0.6971\n",
            "Epoch 15/100\n",
            "1666/1666 [==============================] - 27s 16ms/step - loss: 0.9082 - accuracy: 0.6831 - val_loss: 0.9427 - val_accuracy: 0.6707\n",
            "Epoch 16/100\n",
            "1666/1666 [==============================] - 27s 16ms/step - loss: 0.8939 - accuracy: 0.6879 - val_loss: 0.8507 - val_accuracy: 0.7002\n",
            "Epoch 17/100\n",
            "1666/1666 [==============================] - 28s 17ms/step - loss: 0.8742 - accuracy: 0.6941 - val_loss: 0.8406 - val_accuracy: 0.7038\n",
            "Epoch 18/100\n",
            "1666/1666 [==============================] - 28s 17ms/step - loss: 0.8648 - accuracy: 0.6982 - val_loss: 0.7693 - val_accuracy: 0.7289\n",
            "Epoch 19/100\n",
            "1666/1666 [==============================] - 28s 17ms/step - loss: 0.8462 - accuracy: 0.7044 - val_loss: 0.8481 - val_accuracy: 0.7015\n",
            "Epoch 20/100\n",
            "1666/1666 [==============================] - 28s 17ms/step - loss: 0.8315 - accuracy: 0.7133 - val_loss: 0.7441 - val_accuracy: 0.7391\n",
            "Epoch 21/100\n",
            "1666/1666 [==============================] - 27s 16ms/step - loss: 0.8198 - accuracy: 0.7146 - val_loss: 0.7315 - val_accuracy: 0.7391\n",
            "Epoch 22/100\n",
            "1666/1666 [==============================] - 28s 17ms/step - loss: 0.8055 - accuracy: 0.7208 - val_loss: 0.7458 - val_accuracy: 0.7391\n",
            "Epoch 23/100\n",
            "1666/1666 [==============================] - 28s 17ms/step - loss: 0.7939 - accuracy: 0.7237 - val_loss: 0.7007 - val_accuracy: 0.7563\n",
            "Epoch 24/100\n",
            "1666/1666 [==============================] - 27s 16ms/step - loss: 0.7869 - accuracy: 0.7277 - val_loss: 0.7425 - val_accuracy: 0.7415\n",
            "Epoch 25/100\n",
            "1666/1666 [==============================] - 27s 16ms/step - loss: 0.7789 - accuracy: 0.7315 - val_loss: 0.6923 - val_accuracy: 0.7618\n",
            "Epoch 26/100\n",
            "1666/1666 [==============================] - 27s 16ms/step - loss: 0.7643 - accuracy: 0.7354 - val_loss: 0.6785 - val_accuracy: 0.7629\n",
            "Epoch 27/100\n",
            "1666/1666 [==============================] - 28s 17ms/step - loss: 0.7579 - accuracy: 0.7375 - val_loss: 0.6497 - val_accuracy: 0.7729\n",
            "Epoch 28/100\n",
            "1666/1666 [==============================] - 27s 16ms/step - loss: 0.7423 - accuracy: 0.7439 - val_loss: 0.6712 - val_accuracy: 0.7634\n",
            "Epoch 29/100\n",
            "1666/1666 [==============================] - 27s 16ms/step - loss: 0.7385 - accuracy: 0.7428 - val_loss: 0.6440 - val_accuracy: 0.7781\n",
            "Epoch 30/100\n",
            "1666/1666 [==============================] - 27s 16ms/step - loss: 0.7283 - accuracy: 0.7473 - val_loss: 0.6473 - val_accuracy: 0.7807\n",
            "Epoch 31/100\n",
            "1666/1666 [==============================] - 29s 18ms/step - loss: 0.7185 - accuracy: 0.7523 - val_loss: 0.5735 - val_accuracy: 0.8023\n",
            "Epoch 32/100\n",
            "1666/1666 [==============================] - 28s 17ms/step - loss: 0.7141 - accuracy: 0.7560 - val_loss: 0.6639 - val_accuracy: 0.7729\n",
            "Epoch 33/100\n",
            "1666/1666 [==============================] - 28s 17ms/step - loss: 0.7035 - accuracy: 0.7573 - val_loss: 0.6296 - val_accuracy: 0.7816\n",
            "Epoch 34/100\n",
            "1666/1666 [==============================] - 28s 17ms/step - loss: 0.6983 - accuracy: 0.7601 - val_loss: 0.6279 - val_accuracy: 0.7853\n",
            "Epoch 35/100\n",
            "1666/1666 [==============================] - 28s 17ms/step - loss: 0.6914 - accuracy: 0.7648 - val_loss: 0.5626 - val_accuracy: 0.8063\n",
            "Epoch 36/100\n",
            "1666/1666 [==============================] - 27s 16ms/step - loss: 0.6871 - accuracy: 0.7628 - val_loss: 0.6322 - val_accuracy: 0.7816\n",
            "Epoch 37/100\n",
            "1666/1666 [==============================] - 29s 17ms/step - loss: 0.6799 - accuracy: 0.7681 - val_loss: 0.5815 - val_accuracy: 0.7962\n",
            "Epoch 38/100\n",
            "1666/1666 [==============================] - 27s 16ms/step - loss: 0.6689 - accuracy: 0.7717 - val_loss: 0.6068 - val_accuracy: 0.7941\n",
            "Epoch 39/100\n",
            "1666/1666 [==============================] - 28s 17ms/step - loss: 0.6636 - accuracy: 0.7720 - val_loss: 0.5752 - val_accuracy: 0.8034\n",
            "Epoch 40/100\n",
            "1666/1666 [==============================] - 28s 17ms/step - loss: 0.6650 - accuracy: 0.7747 - val_loss: 0.7105 - val_accuracy: 0.7632\n",
            "Epoch 41/100\n",
            "1666/1666 [==============================] - 28s 17ms/step - loss: 0.6486 - accuracy: 0.7773 - val_loss: 0.5465 - val_accuracy: 0.8130\n",
            "Epoch 42/100\n",
            "1666/1666 [==============================] - 28s 17ms/step - loss: 0.6470 - accuracy: 0.7797 - val_loss: 0.5868 - val_accuracy: 0.7961\n",
            "Epoch 43/100\n",
            "1666/1666 [==============================] - 28s 17ms/step - loss: 0.6415 - accuracy: 0.7798 - val_loss: 0.6060 - val_accuracy: 0.7967\n",
            "Epoch 44/100\n",
            "1666/1666 [==============================] - 28s 17ms/step - loss: 0.6355 - accuracy: 0.7823 - val_loss: 0.5407 - val_accuracy: 0.8169\n",
            "Epoch 45/100\n",
            "1666/1666 [==============================] - 28s 17ms/step - loss: 0.6348 - accuracy: 0.7828 - val_loss: 0.5502 - val_accuracy: 0.8125\n",
            "Epoch 46/100\n",
            "1666/1666 [==============================] - 28s 17ms/step - loss: 0.6285 - accuracy: 0.7854 - val_loss: 0.5536 - val_accuracy: 0.8118\n",
            "Epoch 47/100\n",
            "1666/1666 [==============================] - 28s 17ms/step - loss: 0.6237 - accuracy: 0.7855 - val_loss: 0.5152 - val_accuracy: 0.8255\n",
            "Epoch 48/100\n",
            "1666/1666 [==============================] - 27s 16ms/step - loss: 0.6192 - accuracy: 0.7886 - val_loss: 0.6295 - val_accuracy: 0.7849\n",
            "Epoch 49/100\n",
            "1666/1666 [==============================] - 27s 16ms/step - loss: 0.6114 - accuracy: 0.7919 - val_loss: 0.5458 - val_accuracy: 0.8146\n",
            "Epoch 50/100\n",
            "1666/1666 [==============================] - 27s 16ms/step - loss: 0.6101 - accuracy: 0.7908 - val_loss: 0.5064 - val_accuracy: 0.8295\n",
            "Epoch 51/100\n",
            "1666/1666 [==============================] - 27s 16ms/step - loss: 0.6063 - accuracy: 0.7927 - val_loss: 0.5580 - val_accuracy: 0.8055\n",
            "Epoch 52/100\n",
            "1666/1666 [==============================] - 27s 16ms/step - loss: 0.6030 - accuracy: 0.7930 - val_loss: 0.4959 - val_accuracy: 0.8307\n",
            "Epoch 53/100\n",
            "1666/1666 [==============================] - 27s 16ms/step - loss: 0.5939 - accuracy: 0.7990 - val_loss: 0.4982 - val_accuracy: 0.8324\n",
            "Epoch 54/100\n",
            "1666/1666 [==============================] - 27s 16ms/step - loss: 0.5936 - accuracy: 0.8002 - val_loss: 0.5029 - val_accuracy: 0.8314\n",
            "Epoch 55/100\n",
            "1666/1666 [==============================] - 27s 16ms/step - loss: 0.5882 - accuracy: 0.7992 - val_loss: 0.5151 - val_accuracy: 0.8281\n",
            "Epoch 56/100\n",
            "1666/1666 [==============================] - 27s 16ms/step - loss: 0.5824 - accuracy: 0.8028 - val_loss: 0.5967 - val_accuracy: 0.8032\n",
            "Epoch 57/100\n",
            "1666/1666 [==============================] - 28s 17ms/step - loss: 0.5788 - accuracy: 0.8049 - val_loss: 0.4911 - val_accuracy: 0.8322\n",
            "Epoch 58/100\n",
            "1666/1666 [==============================] - 27s 16ms/step - loss: 0.5702 - accuracy: 0.8054 - val_loss: 0.4819 - val_accuracy: 0.8341\n",
            "Epoch 59/100\n",
            "1666/1666 [==============================] - 27s 16ms/step - loss: 0.5722 - accuracy: 0.8055 - val_loss: 0.4758 - val_accuracy: 0.8375\n",
            "Epoch 60/100\n",
            "1666/1666 [==============================] - 27s 16ms/step - loss: 0.5639 - accuracy: 0.8099 - val_loss: 0.5482 - val_accuracy: 0.8133\n",
            "Epoch 61/100\n",
            "1666/1666 [==============================] - 27s 16ms/step - loss: 0.5674 - accuracy: 0.8076 - val_loss: 0.5052 - val_accuracy: 0.8337\n",
            "Epoch 62/100\n",
            "1666/1666 [==============================] - 27s 16ms/step - loss: 0.5614 - accuracy: 0.8094 - val_loss: 0.4744 - val_accuracy: 0.8405\n",
            "Epoch 63/100\n",
            "1666/1666 [==============================] - 27s 16ms/step - loss: 0.5549 - accuracy: 0.8123 - val_loss: 0.5292 - val_accuracy: 0.8214\n",
            "Epoch 64/100\n",
            "1666/1666 [==============================] - 27s 16ms/step - loss: 0.5512 - accuracy: 0.8146 - val_loss: 0.4736 - val_accuracy: 0.8362\n",
            "Epoch 65/100\n",
            "1666/1666 [==============================] - 28s 17ms/step - loss: 0.5553 - accuracy: 0.8107 - val_loss: 0.5137 - val_accuracy: 0.8256\n",
            "Epoch 66/100\n",
            "1666/1666 [==============================] - 27s 16ms/step - loss: 0.5482 - accuracy: 0.8149 - val_loss: 0.4786 - val_accuracy: 0.8388\n",
            "Epoch 67/100\n",
            "1666/1666 [==============================] - 28s 17ms/step - loss: 0.5439 - accuracy: 0.8164 - val_loss: 0.6055 - val_accuracy: 0.8010\n",
            "Epoch 68/100\n",
            "1666/1666 [==============================] - 28s 17ms/step - loss: 0.5374 - accuracy: 0.8185 - val_loss: 0.4638 - val_accuracy: 0.8433\n",
            "Epoch 69/100\n",
            "1666/1666 [==============================] - 27s 16ms/step - loss: 0.5418 - accuracy: 0.8167 - val_loss: 0.4730 - val_accuracy: 0.8431\n",
            "Epoch 70/100\n",
            "1666/1666 [==============================] - 27s 16ms/step - loss: 0.5335 - accuracy: 0.8181 - val_loss: 0.4508 - val_accuracy: 0.8511\n",
            "Epoch 71/100\n",
            "1666/1666 [==============================] - 27s 16ms/step - loss: 0.5349 - accuracy: 0.8182 - val_loss: 0.5065 - val_accuracy: 0.8337\n",
            "Epoch 72/100\n",
            "1666/1666 [==============================] - 27s 16ms/step - loss: 0.5268 - accuracy: 0.8210 - val_loss: 0.4757 - val_accuracy: 0.8418\n",
            "Epoch 73/100\n",
            "1666/1666 [==============================] - 27s 16ms/step - loss: 0.5258 - accuracy: 0.8211 - val_loss: 0.4405 - val_accuracy: 0.8531\n",
            "Epoch 74/100\n",
            "1666/1666 [==============================] - 27s 16ms/step - loss: 0.5267 - accuracy: 0.8218 - val_loss: 0.4490 - val_accuracy: 0.8506\n",
            "Epoch 75/100\n",
            "1666/1666 [==============================] - 27s 16ms/step - loss: 0.5242 - accuracy: 0.8209 - val_loss: 0.4425 - val_accuracy: 0.8507\n",
            "Epoch 76/100\n",
            "1666/1666 [==============================] - 27s 16ms/step - loss: 0.5168 - accuracy: 0.8240 - val_loss: 0.4391 - val_accuracy: 0.8515\n",
            "Epoch 77/100\n",
            "1666/1666 [==============================] - 27s 16ms/step - loss: 0.5196 - accuracy: 0.8243 - val_loss: 0.4348 - val_accuracy: 0.8531\n",
            "Epoch 78/100\n",
            "1666/1666 [==============================] - 27s 17ms/step - loss: 0.5076 - accuracy: 0.8281 - val_loss: 0.4436 - val_accuracy: 0.8510\n",
            "Epoch 79/100\n",
            "1666/1666 [==============================] - 27s 16ms/step - loss: 0.5108 - accuracy: 0.8264 - val_loss: 0.4451 - val_accuracy: 0.8504\n",
            "Epoch 80/100\n",
            "1666/1666 [==============================] - 28s 17ms/step - loss: 0.5108 - accuracy: 0.8284 - val_loss: 0.4407 - val_accuracy: 0.8520\n",
            "Epoch 81/100\n",
            "1666/1666 [==============================] - 27s 16ms/step - loss: 0.5054 - accuracy: 0.8268 - val_loss: 0.4530 - val_accuracy: 0.8498\n",
            "Epoch 82/100\n",
            "1666/1666 [==============================] - 27s 16ms/step - loss: 0.4997 - accuracy: 0.8296 - val_loss: 0.4547 - val_accuracy: 0.8469\n",
            "Epoch 83/100\n",
            "1666/1666 [==============================] - 27s 16ms/step - loss: 0.5019 - accuracy: 0.8296 - val_loss: 0.4238 - val_accuracy: 0.8576\n",
            "Epoch 84/100\n",
            "1666/1666 [==============================] - 27s 16ms/step - loss: 0.4997 - accuracy: 0.8300 - val_loss: 0.4646 - val_accuracy: 0.8464\n",
            "Epoch 85/100\n",
            "1666/1666 [==============================] - 27s 16ms/step - loss: 0.4954 - accuracy: 0.8323 - val_loss: 0.4784 - val_accuracy: 0.8377\n",
            "Epoch 86/100\n",
            "1666/1666 [==============================] - 27s 16ms/step - loss: 0.4966 - accuracy: 0.8311 - val_loss: 0.4818 - val_accuracy: 0.8403\n",
            "Epoch 87/100\n",
            "1666/1666 [==============================] - 27s 16ms/step - loss: 0.4900 - accuracy: 0.8337 - val_loss: 0.4552 - val_accuracy: 0.8494\n",
            "Epoch 88/100\n",
            "1666/1666 [==============================] - 27s 16ms/step - loss: 0.4924 - accuracy: 0.8316 - val_loss: 0.4245 - val_accuracy: 0.8553\n",
            "Epoch 89/100\n",
            "1666/1666 [==============================] - 27s 16ms/step - loss: 0.4825 - accuracy: 0.8356 - val_loss: 0.4689 - val_accuracy: 0.8403\n",
            "Epoch 90/100\n",
            "1666/1666 [==============================] - 27s 16ms/step - loss: 0.4879 - accuracy: 0.8357 - val_loss: 0.4347 - val_accuracy: 0.8525\n",
            "Epoch 91/100\n",
            "1666/1666 [==============================] - 28s 17ms/step - loss: 0.4828 - accuracy: 0.8365 - val_loss: 0.4195 - val_accuracy: 0.8581\n",
            "Epoch 92/100\n",
            "1666/1666 [==============================] - 27s 16ms/step - loss: 0.4779 - accuracy: 0.8386 - val_loss: 0.4021 - val_accuracy: 0.8627\n",
            "Epoch 93/100\n",
            "1666/1666 [==============================] - 27s 16ms/step - loss: 0.4811 - accuracy: 0.8350 - val_loss: 0.4204 - val_accuracy: 0.8566\n",
            "Epoch 94/100\n",
            "1666/1666 [==============================] - 27s 16ms/step - loss: 0.4836 - accuracy: 0.8353 - val_loss: 0.4066 - val_accuracy: 0.8606\n",
            "Epoch 95/100\n",
            "1666/1666 [==============================] - 28s 17ms/step - loss: 0.4722 - accuracy: 0.8401 - val_loss: 0.4012 - val_accuracy: 0.8638\n",
            "Epoch 96/100\n",
            "1666/1666 [==============================] - 27s 16ms/step - loss: 0.4752 - accuracy: 0.8392 - val_loss: 0.4163 - val_accuracy: 0.8615\n",
            "Epoch 97/100\n",
            "1666/1666 [==============================] - 27s 16ms/step - loss: 0.4719 - accuracy: 0.8393 - val_loss: 0.4022 - val_accuracy: 0.8651\n",
            "Epoch 98/100\n",
            "1666/1666 [==============================] - 27s 16ms/step - loss: 0.4758 - accuracy: 0.8394 - val_loss: 0.4270 - val_accuracy: 0.8568\n",
            "Epoch 99/100\n",
            "1666/1666 [==============================] - 27s 16ms/step - loss: 0.4691 - accuracy: 0.8417 - val_loss: 0.4546 - val_accuracy: 0.8486\n",
            "Epoch 100/100\n",
            "1666/1666 [==============================] - 27s 16ms/step - loss: 0.4666 - accuracy: 0.8415 - val_loss: 0.3871 - val_accuracy: 0.8681\n",
            "313/313 [==============================] - 1s 4ms/step - loss: 0.3871 - accuracy: 0.8681\n"
          ],
          "name": "stdout"
        }
      ]
    },
    {
      "cell_type": "markdown",
      "metadata": {
        "id": "rM54U1npGQrt"
      },
      "source": [
        "## Plotting Learning curves for the model"
      ]
    },
    {
      "cell_type": "code",
      "metadata": {
        "id": "IJaXC_ySGoEg",
        "colab": {
          "base_uri": "https://localhost:8080/",
          "height": 337
        },
        "outputId": "3750389b-3dde-4265-a549-e456f22810db"
      },
      "source": [
        "# Graph 1\n",
        "pyplot.subplot(211)\n",
        "pyplot.title('Loss Function')\n",
        "pyplot.plot(history.history['loss'], color='blue', label='train')\n",
        "pyplot.plot(history.history['val_loss'], color='green', label='test')\n",
        "pyplot.ylabel('Loss')\n",
        "pyplot.xlabel('Epochs')\n",
        "pyplot.legend(['Train Set','Validation Set'],loc='upper right')\n",
        "pyplot.show()\n",
        "# Graph 2\n",
        "pyplot.subplot(212)\n",
        "pyplot.title('Classification Accuracy')\n",
        "pyplot.plot(history.history['accuracy'], color='blue', label='train')\n",
        "pyplot.plot(history.history['val_accuracy'], color='green', label='test')\n",
        "pyplot.ylabel('Accuracy')\n",
        "pyplot.xlabel('Epochs')\n",
        "pyplot.legend(['Train Set','Validation Set'],loc='lower right')\n",
        "pyplot.show()\n",
        "pyplot.close()\n",
        ""
      ],
      "execution_count": null,
      "outputs": [
        {
          "output_type": "display_data",
          "data": {
            "image/png": "[encoded data removed]",
            "text/plain": [
              "<Figure size 432x288 with 1 Axes>"
            ]
          },
          "metadata": {
            "tags": [],
            "needs_background": "light"
          }
        },
        {
          "output_type": "display_data",
          "data": {
            "image/png": "[encoded data removed]",
            "text/plain": [
              "<Figure size 432x288 with 1 Axes>"
            ]
          },
          "metadata": {
            "tags": [],
            "needs_background": "light"
          }
        }
      ]
    },
    {
      "cell_type": "markdown",
      "metadata": {
        "id": "Qr4eJSp0Jyeb"
      },
      "source": [
        "We visualize plots to display the performance of the model on the train and test sets and this therefore helps ascertain whether the model is underfitting or overfitting the data. We observe that the model performs well without overfitting the data and shows an increase in accuracy with increasing number of epochs. I observed an accuracy of upto 89% on running 500 epochs on the entire dataset."
      ]
    },
    {
      "cell_type": "code",
      "metadata": {
        "id": "W_-D4sA33Ly3"
      },
      "source": [],
      "execution_count": null,
      "outputs": []
    }
  ]
}